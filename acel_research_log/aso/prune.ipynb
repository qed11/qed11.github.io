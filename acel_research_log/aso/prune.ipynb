{
 "cells": [
  {
   "cell_type": "code",
   "execution_count": 5,
   "metadata": {},
   "outputs": [],
   "source": [
    "import os"
   ]
  },
  {
   "cell_type": "code",
   "execution_count": 6,
   "metadata": {},
   "outputs": [
    {
     "ename": "UnsupportedOperation",
     "evalue": "not writable",
     "output_type": "error",
     "traceback": [
      "\u001b[0;31m---------------------------------------------------------------------------\u001b[0m",
      "\u001b[0;31mUnsupportedOperation\u001b[0m                      Traceback (most recent call last)",
      "\u001b[1;32m/home/qed/git/qed11.github.io/acel_research_log/aso/prune.ipynb Cell 2\u001b[0m in \u001b[0;36m<cell line: 2>\u001b[0;34m()\u001b[0m\n\u001b[1;32m     <a href='vscode-notebook-cell:/home/qed/git/qed11.github.io/acel_research_log/aso/prune.ipynb#ch0000001?line=9'>10</a>\u001b[0m f \u001b[39m=\u001b[39m \u001b[39mopen\u001b[39m(\u001b[39m'\u001b[39m\u001b[39msoln/\u001b[39m\u001b[39m'\u001b[39m\u001b[39m+\u001b[39mfile, \u001b[39m\"\u001b[39m\u001b[39mr\u001b[39m\u001b[39m\"\u001b[39m)\n\u001b[1;32m     <a href='vscode-notebook-cell:/home/qed/git/qed11.github.io/acel_research_log/aso/prune.ipynb#ch0000001?line=10'>11</a>\u001b[0m \u001b[39mfor\u001b[39;00m line \u001b[39min\u001b[39;00m lines:\n\u001b[0;32m---> <a href='vscode-notebook-cell:/home/qed/git/qed11.github.io/acel_research_log/aso/prune.ipynb#ch0000001?line=11'>12</a>\u001b[0m     f\u001b[39m.\u001b[39;49mwrite(line)\n\u001b[1;32m     <a href='vscode-notebook-cell:/home/qed/git/qed11.github.io/acel_research_log/aso/prune.ipynb#ch0000001?line=13'>14</a>\u001b[0m f\u001b[39m.\u001b[39mclose()\n",
      "\u001b[0;31mUnsupportedOperation\u001b[0m: not writable"
     ]
    }
   ],
   "source": [
    "files = next(os.walk(\"soln\"))[2]\n",
    "for file in files:\n",
    "    f = open('soln/'+file, \"r\")\n",
    "    lines = f.readlines()\n",
    "    f.close()\n",
    "\n",
    "    while \"Line,search,failed,due,to,min,step,size\\n\" in lines:\n",
    "        lines.pop(lines.index(\"Line,search,failed,due,to,min,step,size\\n\"))\n",
    "\n",
    "    f = open('soln/'+file, \"w\")\n",
    "    for line in lines:\n",
    "        f.write(line)\n",
    "\n",
    "    f.close()"
   ]
  }
 ],
 "metadata": {
  "kernelspec": {
   "display_name": "Python 3.8.10 64-bit",
   "language": "python",
   "name": "python3"
  },
  "language_info": {
   "codemirror_mode": {
    "name": "ipython",
    "version": 3
   },
   "file_extension": ".py",
   "mimetype": "text/x-python",
   "name": "python",
   "nbconvert_exporter": "python",
   "pygments_lexer": "ipython3",
   "version": "3.8.10"
  },
  "orig_nbformat": 4,
  "vscode": {
   "interpreter": {
    "hash": "916dbcbb3f70747c44a77c7bcd40155683ae19c65e1c03b4aa3499c5328201f1"
   }
  }
 },
 "nbformat": 4,
 "nbformat_minor": 2
}
