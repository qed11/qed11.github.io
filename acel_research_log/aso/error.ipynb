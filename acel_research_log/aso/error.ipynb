{
 "cells": [
  {
   "cell_type": "code",
   "execution_count": 1,
   "metadata": {},
   "outputs": [],
   "source": [
    "import numpy as np\n",
    "import csv\n",
    "import os\n",
    "import shutil"
   ]
  },
  {
   "cell_type": "code",
   "execution_count": 2,
   "metadata": {},
   "outputs": [],
   "source": [
    "def error_strip(parent:str, filenames:str):\n",
    "    error_tot = []\n",
    "    for folders in filenames:\n",
    "        f = open(parent + '/' + folders + '/output.txt', \"r\")\n",
    "        lines = f.readlines()\n",
    "        f.close()\n",
    "        \n",
    "        for i in range(len(lines)):\n",
    "            if \"This should be 0.0\" in lines[i]:\n",
    "                error_info = lines[i-1].strip('/n')\n",
    "                while \"  \" in error_info:\n",
    "                    error_info = error_info.replace(\"  \", \" \")\n",
    "                err = error_info.strip().split(' ')[0]\n",
    "            if \"Optimal value is\" in lines[i]:\n",
    "                opt_info = lines[i].strip(\"\\n\").split(\": \")[1]\n",
    "            if \"Error in parameter\" in lines[i]:\n",
    "                param_info = lines[i].strip(\"\\n\").split(\": \")[1]\n",
    "\n",
    "        error_tot.append([err, opt_info, param_info])  \n",
    "    return error_tot"
   ]
  },
  {
   "cell_type": "code",
   "execution_count": 3,
   "metadata": {},
   "outputs": [],
   "source": [
    "parent = \"aso_refine_frac_1\"\n",
    "filenames = next(os.walk(parent))[1]\n",
    "\n",
    "err = error_strip(parent=parent, filenames=filenames)\n",
    "\n",
    "def sortkey(err):\n",
    "    return float(err[0])\n",
    "\n",
    "err.sort(key = lambda err: float(err[0]))"
   ]
  },
  {
   "cell_type": "code",
   "execution_count": 4,
   "metadata": {},
   "outputs": [],
   "source": [
    "if not os.path.exists('error_csv'):\n",
    "    os.makedirs('error_csv')\n",
    "    print(\"csv folder for adaptive error has been created.\")\n",
    "\n",
    "f = open(\"error_csv/errors_orig_2.csv\", \"w\")\n",
    "writer = csv.writer(f)\n",
    "for line in err:\n",
    "    writer.writerow(line)\n",
    "f.close()"
   ]
  }
 ],
 "metadata": {
  "kernelspec": {
   "display_name": "Python 3.8.10 64-bit",
   "language": "python",
   "name": "python3"
  },
  "language_info": {
   "codemirror_mode": {
    "name": "ipython",
    "version": 3
   },
   "file_extension": ".py",
   "mimetype": "text/x-python",
   "name": "python",
   "nbconvert_exporter": "python",
   "pygments_lexer": "ipython3",
   "version": "3.8.10"
  },
  "orig_nbformat": 4,
  "vscode": {
   "interpreter": {
    "hash": "916dbcbb3f70747c44a77c7bcd40155683ae19c65e1c03b4aa3499c5328201f1"
   }
  }
 },
 "nbformat": 4,
 "nbformat_minor": 2
}
