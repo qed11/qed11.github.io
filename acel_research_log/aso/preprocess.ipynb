{
 "cells": [
  {
   "cell_type": "code",
   "execution_count": 7,
   "metadata": {},
   "outputs": [],
   "source": [
    "def prep(filename:str):\n",
    "    f = open(filename, \"r\")\n",
    "    lines = f.readlines()\n",
    "    while True:\n",
    "        if \"This should not be 0.0:\" not in lines[0]:\n",
    "            lines.pop(0)\n",
    "            continue\n",
    "        lines.pop(0)\n",
    "        break\n",
    "    \n",
    "    while True:\n",
    "        if \"Number of:\" not in lines[0]:\n",
    "            continue\n",
    "        lines.pop(0)\n",
    "        break\n",
    "    return lines\n",
    "   "
   ]
  },
  {
   "cell_type": "code",
   "execution_count": 8,
   "metadata": {},
   "outputs": [
    {
     "name": "stdout",
     "output_type": "stream",
     "text": [
      "['  0    1   4.731423161845806e-02    7.690294330293623e-09    7.069776550037092e-02\\n', '  1    1   2.592427888605123e-02    5.291060310241563e-02    3.994515645242325e-02\\n', '  2    1   2.719171975138588e-03    8.950616196835793e-08    4.919898760247512e-02\\n', '  3    1   1.001703776009033e-03    1.637642372827606e-03    2.664586974510710e-02\\n', '  4    1   9.138250216364687e-04    8.185886731861025e-12    1.250125029779229e-02\\n', '  5    1   8.902063067909571e-04    4.136521498762202e-07    1.196970212898690e-02\\n', '  6    1   8.775550230494260e-04    6.535760879723356e-11    6.696177412146307e-03\\n', '  7    1   8.704730052116918e-04    4.639719259826946e-10    3.783913945560308e-03\\n', '  8    1   8.687976962458185e-04    2.220446049250313e-14    2.974778407730968e-03\\n', '  9    1   8.666513098696886e-04    2.220446049250313e-14    2.620600915568279e-03\\n', ' 10    1   8.656131439250666e-04    2.220446049250313e-14    1.819468897799457e-03\\n', ' 11    1   8.650729414453706e-04    2.220446049250313e-14    1.218282035673370e-03\\n', ' 12    1   8.648220369964565e-04    2.220446049250313e-14    8.718246986032406e-04\\n', ' 13    1   8.647084664996357e-04    2.220446049250313e-14    3.692070230271865e-04\\n', ' 14    1   8.646877091608774e-04    2.220446049250313e-14    1.074600003561411e-04\\n', ' 15    1   8.646862544879780e-04    2.220446049250313e-14    1.317672012571423e-05\\n', ' 16    1   8.646862238055155e-04    2.220446049250313e-14    1.473447263579719e-06\\n', ' 17    1   8.646862235205917e-04    2.220446049250313e-14    9.322382185743953e-08\\n', 'Number of function evaluations: 20\\n', 'Number of HF evaluations: 0\\n', 'Optimal value is: 0.000864686\\n', 'Reference vs optimal parameter values\\n', '  0.01000000   0.01562065  -0.00562065\\n', '  0.03000000   0.03221336  -0.00221336\\n', '  0.01000000   0.01162250  -0.00162250\\n', '  0.05000000   0.04998110   0.00001890\\n', '  0.07000000   0.07049252  -0.00049252\\n', '  0.02000000   0.02207431  -0.00207431\\n', 'Error in parameter: 6.60824029e-03\\n', 'KKT solution:               0.0005\\n', 'Function evaluations:       4.9739\\n', 'Gradient evaluations:       1.7176\\n', 'HF function evaluations:    0.0000\\n', 'Model training:             0.0000\\n', 'Error Estimation:           0.0000\\n', '----------------------------------\\n', 'Total:                      6.6975\\n', '==================================\\n', 'Transform time is: 0\\n']\n"
     ]
    }
   ],
   "source": [
    "lines = prep(\"aso_aug_11/adapt/ref_2_4_soln_1_1/output.txt\")\n",
    "\n",
    "print(lines)"
   ]
  }
 ],
 "metadata": {
  "interpreter": {
   "hash": "d8fe9279b24eb5c6c279942e41b8b8e849b3e5cb2998e15bc84e8c8ade1c1671"
  },
  "kernelspec": {
   "display_name": "Python 3.9.7 64-bit",
   "language": "python",
   "name": "python3"
  },
  "language_info": {
   "codemirror_mode": {
    "name": "ipython",
    "version": 3
   },
   "file_extension": ".py",
   "mimetype": "text/x-python",
   "name": "python",
   "nbconvert_exporter": "python",
   "pygments_lexer": "ipython3",
   "version": "3.9.7"
  },
  "orig_nbformat": 4,
  "vscode": {
   "interpreter": {
    "hash": "916dbcbb3f70747c44a77c7bcd40155683ae19c65e1c03b4aa3499c5328201f1"
   }
  }
 },
 "nbformat": 4,
 "nbformat_minor": 2
}
