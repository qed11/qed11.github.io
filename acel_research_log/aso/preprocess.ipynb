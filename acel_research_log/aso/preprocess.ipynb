{
 "cells": [
  {
   "cell_type": "code",
   "execution_count": 1,
   "metadata": {},
   "outputs": [],
   "source": [
    "def prep(filename:str):\n",
    "    names = filename.split(\"_\")\n",
    "    iter = int(names[4])\n",
    "    f = open(filename, \"r\")\n",
    "    lines = f.readlines()\n",
    "    \n",
    "    for i in range(len(lines)):\n",
    "        if \"This should not be 0.0\" in lines[i]:\n",
    "            ind_soln_begin = i + 1\n",
    "        if \"Number of function evaluations\" in lines[i]:\n",
    "            ind_soln_end = i\n",
    "        if \"We now have a finalized mesh\" in lines[i]:\n",
    "            ref_soln_end = i\n",
    "\n",
    "    ref_mesh_result = lines[ref_soln_end - iter : ref_soln_end]\n",
    "    soln_result = lines[ind_soln_begin:ind_soln_end]\n",
    "\n",
    "    return ref_mesh_result, soln_result\n",
    "   "
   ]
  },
  {
   "cell_type": "code",
   "execution_count": 3,
   "metadata": {},
   "outputs": [
    {
     "name": "stdout",
     "output_type": "stream",
     "text": [
      "[['', '', '18432', '', '2.568896039381264e+03', '-5.238885345235542e-07', '', '5.392085233008621e-02', '', '8.776102157326401e-01'], ['', '', '26928', '', '2.568961049390049e+03', '-3.633570840639565e-08', '', '1.966447202534679e-02', '', '5.625354657924775e-01'], ['', '', '39480', '', '2.568984925402671e+03', '', '4.641309316851087e-08', '', '8.889558169491479e-03', '', '3.787184554061893e-01'], ['', '', '57528', '', '2.568995458342405e+03', '', '5.582225476471999e-08', '', '3.849981484086231e-03', '', '2.574356390806820e-01']]\n",
      "['This should not be 0.0:   8.6030746601803834e-02\\n', '  0    1   4.731423161845806e-02    7.690294330293623e-09    7.069776550037092e-02\\n', '  1    1   2.592427888605123e-02    5.291060310241563e-02    3.994515645242325e-02\\n', '  2    1   2.719171975138588e-03    8.950616196835793e-08    4.919898760247512e-02\\n', '  3    1   1.001703776009033e-03    1.637642372827606e-03    2.664586974510710e-02\\n', '  4    1   9.138250216364687e-04    8.185886731861025e-12    1.250125029779229e-02\\n', '  5    1   8.902063067909571e-04    4.136521498762202e-07    1.196970212898690e-02\\n', '  6    1   8.775550230494260e-04    6.535760879723356e-11    6.696177412146307e-03\\n', '  7    1   8.704730052116918e-04    4.639719259826946e-10    3.783913945560308e-03\\n', '  8    1   8.687976962458185e-04    2.220446049250313e-14    2.974778407730968e-03\\n', '  9    1   8.666513098696886e-04    2.220446049250313e-14    2.620600915568279e-03\\n', ' 10    1   8.656131439250666e-04    2.220446049250313e-14    1.819468897799457e-03\\n', ' 11    1   8.650729414453706e-04    2.220446049250313e-14    1.218282035673370e-03\\n', ' 12    1   8.648220369964565e-04    2.220446049250313e-14    8.718246986032406e-04\\n', ' 13    1   8.647084664996357e-04    2.220446049250313e-14    3.692070230271865e-04\\n', ' 14    1   8.646877091608774e-04    2.220446049250313e-14    1.074600003561411e-04\\n', ' 15    1   8.646862544879780e-04    2.220446049250313e-14    1.317672012571423e-05\\n', ' 16    1   8.646862238055155e-04    2.220446049250313e-14    1.473447263579719e-06\\n', ' 17    1   8.646862235205917e-04    2.220446049250313e-14    9.322382185743953e-08\\n']\n"
     ]
    }
   ],
   "source": [
    "ref, soln = prep(\"aso_aug_11/adapt/ref_2_4_soln_1_1/output.txt\")\n",
    "\n",
    "for i in range(len(ref)):\n",
    "    ref[i] = ref[i].lstrip().strip(\"\\n\").split(\" \")\n",
    "print(ref)\n",
    "print(soln)"
   ]
  }
 ],
 "metadata": {
  "kernelspec": {
   "display_name": "Python 3.9.5 64-bit",
   "language": "python",
   "name": "python3"
  },
  "language_info": {
   "codemirror_mode": {
    "name": "ipython",
    "version": 3
   },
   "file_extension": ".py",
   "mimetype": "text/x-python",
   "name": "python",
   "nbconvert_exporter": "python",
   "pygments_lexer": "ipython3",
   "version": "3.9.5"
  },
  "orig_nbformat": 4,
  "vscode": {
   "interpreter": {
    "hash": "8800da94ffd8fb2b7374c14929cf6615a675ebd6b7f60f1390dcb73f9e46682a"
   }
  }
 },
 "nbformat": 4,
 "nbformat_minor": 2
}
