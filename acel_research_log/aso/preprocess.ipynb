{
 "cells": [
  {
   "cell_type": "code",
   "execution_count": 22,
   "metadata": {},
   "outputs": [],
   "source": [
    "import numpy as np\n",
    "import csv\n",
    "import os\n",
    "import shutil"
   ]
  },
  {
   "cell_type": "code",
   "execution_count": 23,
   "metadata": {},
   "outputs": [],
   "source": [
    "def prep(filename:str):\n",
    "    names = filename.split(\"_\")\n",
    "    iter = int(names[4])\n",
    "    print(names)\n",
    "    f = open(filename, \"r\")\n",
    "    lines = f.readlines()\n",
    "    \n",
    "    for i in range(len(lines)):\n",
    "        if \"This should not be 0.0\" in lines[i]:\n",
    "            ind_soln_begin = i + 1\n",
    "        if \"Number of function evaluations\" in lines[i]:\n",
    "            ind_soln_end = i\n",
    "        if \"We now have a finalized mesh\" in lines[i]:\n",
    "            ref_soln_end = i\n",
    "\n",
    "    ref = lines[ref_soln_end - iter : ref_soln_end]\n",
    "    for i in range(len(ref)):\n",
    "        ref[i] = ref[i].replace(\"  \", \" \")\n",
    "        ref[i] = ref[i].strip().strip(\"\\n\").split(\" \")\n",
    "\n",
    "    soln = lines[ind_soln_begin:ind_soln_end]\n",
    "    for i in range(len(soln)):\n",
    "        while \"  \" in soln[i]:\n",
    "            soln[i] = soln[i].replace(\"  \", \" \")\n",
    "        soln[i] = soln[i].strip().strip(\"\\n\").split(\" \")\n",
    "\n",
    "    return np.array(ref), np.array(soln)\n",
    "   "
   ]
  },
  {
   "cell_type": "code",
   "execution_count": 24,
   "metadata": {},
   "outputs": [],
   "source": [
    "parent = \"aso_aug_17/\"\n",
    "filenames = next(os.walk(parent))[1]"
   ]
  },
  {
   "cell_type": "code",
   "execution_count": 25,
   "metadata": {},
   "outputs": [
    {
     "name": "stdout",
     "output_type": "stream",
     "text": [
      "['aso', 'aug', '17/ref', '4', '8', 'soln', '3', '1/output.txt']\n",
      "['aso', 'aug', '17/ref', '4', '8', 'soln', '4', '1/output.txt']\n",
      "['aso', 'aug', '17/ref', '4', '8', 'soln', '1', '1/output.txt']\n",
      "['aso', 'aug', '17/ref', '4', '8', 'soln', '2', '1/output.txt']\n"
     ]
    }
   ],
   "source": [
    "\n",
    "if not os.path.exists('csv'):\n",
    "    os.makedirs('csv')\n",
    "    print(\"csv folder has been created.\")\n",
    "    \n",
    "for filename in filenames:\n",
    "\n",
    "    fname = parent+filename+\"/output.txt\"\n",
    "    ref, soln = prep(fname)\n",
    "    \n",
    "    f = open(\"csv/\"+filename+\"_ref.csv\", \"w\")\n",
    "    writer = csv.writer(f)\n",
    "    for line in ref:\n",
    "        writer.writerow(line)\n",
    "    f.close()\n",
    "\n",
    "    f = open(\"csv/\"+filename+\"_soln.csv\", \"w\")\n",
    "    writer = csv.writer(f)\n",
    "    for line in soln:\n",
    "        writer.writerow(line)\n",
    "    f.close()\n",
    "\n",
    "        "
   ]
  },
  {
   "cell_type": "code",
   "execution_count": 26,
   "metadata": {},
   "outputs": [
    {
     "name": "stdout",
     "output_type": "stream",
     "text": [
      "The new directory is created!\n",
      "The new directory is created!\n"
     ]
    }
   ],
   "source": [
    "ref_path = 'result_aug_17/ref'\n",
    "soln_path = 'result_aug_17/soln'\n",
    "paths = ('result_aug_17/ref', 'result_aug_17/soln')\n",
    "\n",
    "# Check whether the specified path exists or not\n",
    "for path in paths:\n",
    "    if not os.path.exists(path):\n",
    "    \n",
    "    # Create a new directory because it does not exist \n",
    "        os.makedirs(path)\n",
    "        print(\"The new directory is created!\")\n",
    "\n",
    "for pathy in next(os.walk(\"csv/\"))[2]:\n",
    "    if pathy.split('_')[6] == 'ref.csv':\n",
    "        shutil.move(\"csv/\"+pathy, ref_path)\n",
    "    else:\n",
    "        shutil.move(\"csv/\" + pathy, soln_path)\n"
   ]
  }
 ],
 "metadata": {
  "kernelspec": {
   "display_name": "Python 3.8.10 64-bit",
   "language": "python",
   "name": "python3"
  },
  "language_info": {
   "codemirror_mode": {
    "name": "ipython",
    "version": 3
   },
   "file_extension": ".py",
   "mimetype": "text/x-python",
   "name": "python",
   "nbconvert_exporter": "python",
   "pygments_lexer": "ipython3",
   "version": "3.8.10"
  },
  "orig_nbformat": 4,
  "vscode": {
   "interpreter": {
    "hash": "916dbcbb3f70747c44a77c7bcd40155683ae19c65e1c03b4aa3499c5328201f1"
   }
  }
 },
 "nbformat": 4,
 "nbformat_minor": 2
}
